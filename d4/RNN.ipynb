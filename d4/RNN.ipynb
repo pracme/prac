{
 "cells": [
  {
   "cell_type": "code",
   "execution_count": 1,
   "id": "6fa0c7c8",
   "metadata": {},
   "outputs": [],
   "source": [
    "import pandas as pd\n",
    "import numpy as np\n",
    "import matplotlib.pyplot as plt"
   ]
  },
  {
   "cell_type": "code",
   "execution_count": 2,
   "id": "acc126b7",
   "metadata": {},
   "outputs": [],
   "source": [
    "data = pd.read_csv('google.csv')"
   ]
  },
  {
   "cell_type": "code",
   "execution_count": 3,
   "id": "5077ea9c",
   "metadata": {},
   "outputs": [
    {
     "data": {
      "text/html": [
       "<div>\n",
       "<style scoped>\n",
       "    .dataframe tbody tr th:only-of-type {\n",
       "        vertical-align: middle;\n",
       "    }\n",
       "\n",
       "    .dataframe tbody tr th {\n",
       "        vertical-align: top;\n",
       "    }\n",
       "\n",
       "    .dataframe thead th {\n",
       "        text-align: right;\n",
       "    }\n",
       "</style>\n",
       "<table border=\"1\" class=\"dataframe\">\n",
       "  <thead>\n",
       "    <tr style=\"text-align: right;\">\n",
       "      <th></th>\n",
       "      <th>date</th>\n",
       "      <th>close</th>\n",
       "      <th>high</th>\n",
       "      <th>low</th>\n",
       "      <th>open</th>\n",
       "      <th>volume</th>\n",
       "    </tr>\n",
       "  </thead>\n",
       "  <tbody>\n",
       "    <tr>\n",
       "      <th>0</th>\n",
       "      <td>2016-06-14</td>\n",
       "      <td>718.27</td>\n",
       "      <td>722.47</td>\n",
       "      <td>713.1200</td>\n",
       "      <td>716.48</td>\n",
       "      <td>1306065</td>\n",
       "    </tr>\n",
       "    <tr>\n",
       "      <th>1</th>\n",
       "      <td>2016-06-15</td>\n",
       "      <td>718.92</td>\n",
       "      <td>722.98</td>\n",
       "      <td>717.3100</td>\n",
       "      <td>719.00</td>\n",
       "      <td>1214517</td>\n",
       "    </tr>\n",
       "    <tr>\n",
       "      <th>2</th>\n",
       "      <td>2016-06-16</td>\n",
       "      <td>710.36</td>\n",
       "      <td>716.65</td>\n",
       "      <td>703.2600</td>\n",
       "      <td>714.91</td>\n",
       "      <td>1982471</td>\n",
       "    </tr>\n",
       "    <tr>\n",
       "      <th>3</th>\n",
       "      <td>2016-06-17</td>\n",
       "      <td>691.72</td>\n",
       "      <td>708.82</td>\n",
       "      <td>688.4515</td>\n",
       "      <td>708.65</td>\n",
       "      <td>3402357</td>\n",
       "    </tr>\n",
       "    <tr>\n",
       "      <th>4</th>\n",
       "      <td>2016-06-20</td>\n",
       "      <td>693.71</td>\n",
       "      <td>702.48</td>\n",
       "      <td>693.4100</td>\n",
       "      <td>698.77</td>\n",
       "      <td>2082538</td>\n",
       "    </tr>\n",
       "  </tbody>\n",
       "</table>\n",
       "</div>"
      ],
      "text/plain": [
       "         date   close    high       low    open   volume\n",
       "0  2016-06-14  718.27  722.47  713.1200  716.48  1306065\n",
       "1  2016-06-15  718.92  722.98  717.3100  719.00  1214517\n",
       "2  2016-06-16  710.36  716.65  703.2600  714.91  1982471\n",
       "3  2016-06-17  691.72  708.82  688.4515  708.65  3402357\n",
       "4  2016-06-20  693.71  702.48  693.4100  698.77  2082538"
      ]
     },
     "execution_count": 3,
     "metadata": {},
     "output_type": "execute_result"
    }
   ],
   "source": [
    "data.head(5)"
   ]
  },
  {
   "cell_type": "code",
   "execution_count": 336,
   "id": "16804a29",
   "metadata": {},
   "outputs": [],
   "source": [
    "y = data['close'].values.reshape(-1,1)"
   ]
  },
  {
   "cell_type": "code",
   "execution_count": 337,
   "id": "b2bd0f56",
   "metadata": {},
   "outputs": [
    {
     "data": {
      "text/plain": [
       "array([[ 718.27],\n",
       "       [ 718.92],\n",
       "       [ 710.36],\n",
       "       ...,\n",
       "       [2491.4 ],\n",
       "       [2521.6 ],\n",
       "       [2513.93]])"
      ]
     },
     "execution_count": 337,
     "metadata": {},
     "output_type": "execute_result"
    }
   ],
   "source": [
    "y"
   ]
  },
  {
   "cell_type": "code",
   "execution_count": 338,
   "id": "8d6a1b82",
   "metadata": {},
   "outputs": [],
   "source": [
    "from sklearn.preprocessing import MinMaxScaler\n",
    "scaler = MinMaxScaler(feature_range=(0,1))\n",
    "scaled_data = scaler.fit_transform(y)"
   ]
  },
  {
   "cell_type": "code",
   "execution_count": 323,
   "id": "30deb3b1",
   "metadata": {},
   "outputs": [
    {
     "data": {
      "text/plain": [
       "array([[0.02698372],\n",
       "       [0.02733443],\n",
       "       [0.02271575],\n",
       "       ...,\n",
       "       [0.98370509],\n",
       "       [1.        ],\n",
       "       [0.99586153]])"
      ]
     },
     "execution_count": 323,
     "metadata": {},
     "output_type": "execute_result"
    }
   ],
   "source": [
    "scaled_data"
   ]
  },
  {
   "cell_type": "code",
   "execution_count": 324,
   "id": "b6eed152",
   "metadata": {},
   "outputs": [],
   "source": [
    "train_size = int(len(scaled_data)*0.8)\n",
    "train_data = scaled_data[:train_size]\n",
    "test_data = scaled_data[train_size:]"
   ]
  },
  {
   "cell_type": "code",
   "execution_count": 325,
   "id": "7dcf683b",
   "metadata": {},
   "outputs": [],
   "source": [
    "def create_seq(data,seq_length):\n",
    "    X,y = [],[]\n",
    "    for i in range(len(data)-seq_length):\n",
    "        X.append(data[i:i+seq_length])\n",
    "        y.append(data[i+seq_length])\n",
    "    return np.array(X),np.array(y)\n",
    "\n",
    "X_train,y_train = create_seq(train_data,10)\n",
    "X_test,y_test = create_seq(test_data,10)"
   ]
  },
  {
   "cell_type": "code",
   "execution_count": 326,
   "id": "b9d2d059",
   "metadata": {},
   "outputs": [],
   "source": [
    "import tensorflow\n",
    "from tensorflow import keras\n",
    "from tensorflow.keras.models import Sequential\n",
    "from tensorflow.keras.layers import Dense,SimpleRNN"
   ]
  },
  {
   "cell_type": "code",
   "execution_count": 327,
   "id": "e783f424",
   "metadata": {},
   "outputs": [],
   "source": [
    "model = Sequential()"
   ]
  },
  {
   "cell_type": "code",
   "execution_count": 328,
   "id": "262156ac",
   "metadata": {},
   "outputs": [],
   "source": [
    "model.add(SimpleRNN(units=50,return_sequences=False,input_shape = (X_train.shape[1],X_train.shape[2])))\n",
    "model.add(Dense(units=1))"
   ]
  },
  {
   "cell_type": "code",
   "execution_count": 329,
   "id": "c353fe2d",
   "metadata": {},
   "outputs": [
    {
     "name": "stdout",
     "output_type": "stream",
     "text": [
      "Model: \"sequential_13\"\n",
      "_________________________________________________________________\n",
      " Layer (type)                Output Shape              Param #   \n",
      "=================================================================\n",
      " simple_rnn_13 (SimpleRNN)   (None, 50)                2600      \n",
      "                                                                 \n",
      " dense_11 (Dense)            (None, 1)                 51        \n",
      "                                                                 \n",
      "=================================================================\n",
      "Total params: 2,651\n",
      "Trainable params: 2,651\n",
      "Non-trainable params: 0\n",
      "_________________________________________________________________\n"
     ]
    }
   ],
   "source": [
    "moel.summary()"
   ]
  },
  {
   "cell_type": "code",
   "execution_count": 330,
   "id": "c13eeda6",
   "metadata": {},
   "outputs": [],
   "source": [
    "model.compile(optimizer=\"adam\", loss=\"mean_squared_error\")"
   ]
  },
  {
   "cell_type": "code",
   "execution_count": 331,
   "id": "491738ea",
   "metadata": {},
   "outputs": [
    {
     "name": "stdout",
     "output_type": "stream",
     "text": [
      "Epoch 1/10\n",
      "13/13 [==============================] - 1s 13ms/step - loss: 0.0111 - val_loss: 0.0170\n",
      "Epoch 2/10\n",
      "13/13 [==============================] - 0s 4ms/step - loss: 0.0019 - val_loss: 0.0017\n",
      "Epoch 3/10\n",
      "13/13 [==============================] - 0s 4ms/step - loss: 7.0227e-04 - val_loss: 0.0029\n",
      "Epoch 4/10\n",
      "13/13 [==============================] - 0s 4ms/step - loss: 4.8266e-04 - val_loss: 0.0021\n",
      "Epoch 5/10\n",
      "13/13 [==============================] - 0s 4ms/step - loss: 3.8836e-04 - val_loss: 0.0014\n",
      "Epoch 6/10\n",
      "13/13 [==============================] - 0s 4ms/step - loss: 3.6117e-04 - val_loss: 0.0016\n",
      "Epoch 7/10\n",
      "13/13 [==============================] - 0s 4ms/step - loss: 3.4203e-04 - val_loss: 0.0016\n",
      "Epoch 8/10\n",
      "13/13 [==============================] - 0s 4ms/step - loss: 3.1861e-04 - val_loss: 0.0013\n",
      "Epoch 9/10\n",
      "13/13 [==============================] - 0s 4ms/step - loss: 2.9781e-04 - val_loss: 0.0011\n",
      "Epoch 10/10\n",
      "13/13 [==============================] - 0s 4ms/step - loss: 2.8218e-04 - val_loss: 0.0010\n"
     ]
    }
   ],
   "source": [
    "history = model.fit(X_train,y_train,validation_split=0.2,epochs=10,batch_size=64)"
   ]
  },
  {
   "cell_type": "code",
   "execution_count": 332,
   "id": "e8ca8243",
   "metadata": {},
   "outputs": [
    {
     "data": {
      "text/plain": [
       "[<matplotlib.lines.Line2D at 0x2139ae81580>]"
      ]
     },
     "execution_count": 332,
     "metadata": {},
     "output_type": "execute_result"
    },
    {
     "data": {
      "image/png": "[encoded data removed]",
      "text/plain": [
       "<Figure size 432x288 with 1 Axes>"
      ]
     },
     "metadata": {
      "needs_background": "light"
     },
     "output_type": "display_data"
    }
   ],
   "source": [
    "plt.plot(history.history[\"loss\"])"
   ]
  },
  {
   "cell_type": "code",
   "execution_count": null,
   "id": "dffffb7a",
   "metadata": {},
   "outputs": [],
   "source": []
  }
 ],
 "metadata": {
  "kernelspec": {
   "display_name": "Python 3 (ipykernel)",
   "language": "python",
   "name": "python3"
  },
  "language_info": {
   "codemirror_mode": {
    "name": "ipython",
    "version": 3
   },
   "file_extension": ".py",
   "mimetype": "text/x-python",
   "name": "python",
   "nbconvert_exporter": "python",
   "pygments_lexer": "ipython3",
   "version": "3.9.12"
  }
 },
 "nbformat": 4,
 "nbformat_minor": 5
}
