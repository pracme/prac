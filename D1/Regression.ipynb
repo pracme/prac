{
 "cells": [
  {
   "cell_type": "code",
   "execution_count": 184,
   "id": "1cb48c43-88b3-49e2-b021-f5ca9e75b081",
   "metadata": {},
   "outputs": [],
   "source": [
    "import pandas as pd\n",
    "import numpy as np\n",
    "import matplotlib.pyplot as plt"
   ]
  },
  {
   "cell_type": "code",
   "execution_count": 185,
   "id": "f27a7473-28a1-4223-adb1-be334c6b128c",
   "metadata": {},
   "outputs": [],
   "source": [
    "data = pd.read_csv(\"BostonHousing.csv\")"
   ]
  },
  {
   "cell_type": "code",
   "execution_count": 186,
   "id": "bc10f1df-0e54-4ca0-b83b-061da58ba1f9",
   "metadata": {},
   "outputs": [
    {
     "data": {
      "text/html": [
       "<div>\n",
       "<style scoped>\n",
       "    .dataframe tbody tr th:only-of-type {\n",
       "        vertical-align: middle;\n",
       "    }\n",
       "\n",
       "    .dataframe tbody tr th {\n",
       "        vertical-align: top;\n",
       "    }\n",
       "\n",
       "    .dataframe thead th {\n",
       "        text-align: right;\n",
       "    }\n",
       "</style>\n",
       "<table border=\"1\" class=\"dataframe\">\n",
       "  <thead>\n",
       "    <tr style=\"text-align: right;\">\n",
       "      <th></th>\n",
       "      <th>crim</th>\n",
       "      <th>zn</th>\n",
       "      <th>indus</th>\n",
       "      <th>chas</th>\n",
       "      <th>nox</th>\n",
       "      <th>rm</th>\n",
       "      <th>age</th>\n",
       "      <th>dis</th>\n",
       "      <th>rad</th>\n",
       "      <th>tax</th>\n",
       "      <th>ptratio</th>\n",
       "      <th>b</th>\n",
       "      <th>lstat</th>\n",
       "      <th>medv</th>\n",
       "    </tr>\n",
       "  </thead>\n",
       "  <tbody>\n",
       "    <tr>\n",
       "      <th>0</th>\n",
       "      <td>0.00632</td>\n",
       "      <td>18.0</td>\n",
       "      <td>2.31</td>\n",
       "      <td>0</td>\n",
       "      <td>0.538</td>\n",
       "      <td>6.575</td>\n",
       "      <td>65.2</td>\n",
       "      <td>4.0900</td>\n",
       "      <td>1</td>\n",
       "      <td>296</td>\n",
       "      <td>15.3</td>\n",
       "      <td>396.90</td>\n",
       "      <td>4.98</td>\n",
       "      <td>24.0</td>\n",
       "    </tr>\n",
       "    <tr>\n",
       "      <th>1</th>\n",
       "      <td>0.02731</td>\n",
       "      <td>0.0</td>\n",
       "      <td>7.07</td>\n",
       "      <td>0</td>\n",
       "      <td>0.469</td>\n",
       "      <td>6.421</td>\n",
       "      <td>78.9</td>\n",
       "      <td>4.9671</td>\n",
       "      <td>2</td>\n",
       "      <td>242</td>\n",
       "      <td>17.8</td>\n",
       "      <td>396.90</td>\n",
       "      <td>9.14</td>\n",
       "      <td>21.6</td>\n",
       "    </tr>\n",
       "    <tr>\n",
       "      <th>2</th>\n",
       "      <td>0.02729</td>\n",
       "      <td>0.0</td>\n",
       "      <td>7.07</td>\n",
       "      <td>0</td>\n",
       "      <td>0.469</td>\n",
       "      <td>7.185</td>\n",
       "      <td>61.1</td>\n",
       "      <td>4.9671</td>\n",
       "      <td>2</td>\n",
       "      <td>242</td>\n",
       "      <td>17.8</td>\n",
       "      <td>392.83</td>\n",
       "      <td>4.03</td>\n",
       "      <td>34.7</td>\n",
       "    </tr>\n",
       "    <tr>\n",
       "      <th>3</th>\n",
       "      <td>0.03237</td>\n",
       "      <td>0.0</td>\n",
       "      <td>2.18</td>\n",
       "      <td>0</td>\n",
       "      <td>0.458</td>\n",
       "      <td>6.998</td>\n",
       "      <td>45.8</td>\n",
       "      <td>6.0622</td>\n",
       "      <td>3</td>\n",
       "      <td>222</td>\n",
       "      <td>18.7</td>\n",
       "      <td>394.63</td>\n",
       "      <td>2.94</td>\n",
       "      <td>33.4</td>\n",
       "    </tr>\n",
       "    <tr>\n",
       "      <th>4</th>\n",
       "      <td>0.06905</td>\n",
       "      <td>0.0</td>\n",
       "      <td>2.18</td>\n",
       "      <td>0</td>\n",
       "      <td>0.458</td>\n",
       "      <td>7.147</td>\n",
       "      <td>54.2</td>\n",
       "      <td>6.0622</td>\n",
       "      <td>3</td>\n",
       "      <td>222</td>\n",
       "      <td>18.7</td>\n",
       "      <td>396.90</td>\n",
       "      <td>5.33</td>\n",
       "      <td>36.2</td>\n",
       "    </tr>\n",
       "  </tbody>\n",
       "</table>\n",
       "</div>"
      ],
      "text/plain": [
       "      crim    zn  indus  chas    nox     rm   age     dis  rad  tax  ptratio  \\\n",
       "0  0.00632  18.0   2.31     0  0.538  6.575  65.2  4.0900    1  296     15.3   \n",
       "1  0.02731   0.0   7.07     0  0.469  6.421  78.9  4.9671    2  242     17.8   \n",
       "2  0.02729   0.0   7.07     0  0.469  7.185  61.1  4.9671    2  242     17.8   \n",
       "3  0.03237   0.0   2.18     0  0.458  6.998  45.8  6.0622    3  222     18.7   \n",
       "4  0.06905   0.0   2.18     0  0.458  7.147  54.2  6.0622    3  222     18.7   \n",
       "\n",
       "        b  lstat  medv  \n",
       "0  396.90   4.98  24.0  \n",
       "1  396.90   9.14  21.6  \n",
       "2  392.83   4.03  34.7  \n",
       "3  394.63   2.94  33.4  \n",
       "4  396.90   5.33  36.2  "
      ]
     },
     "execution_count": 186,
     "metadata": {},
     "output_type": "execute_result"
    }
   ],
   "source": [
    "data.head(5)"
   ]
  },
  {
   "cell_type": "code",
   "execution_count": 187,
   "id": "2e3263c1-46e7-487b-916e-6dc0250ac35b",
   "metadata": {},
   "outputs": [],
   "source": [
    "X = data.drop(columns = [\"medv\"])\n",
    "Y = data[\"medv\"]\n",
    "X.drop(columns=[\"chas\",\"zn\"],inplace=True)"
   ]
  },
  {
   "cell_type": "code",
   "execution_count": 188,
   "id": "b0b73081-66ac-4224-a450-ccc49d4d2951",
   "metadata": {},
   "outputs": [],
   "source": [
    "from sklearn.model_selection import train_test_split\n",
    "X_train,X_test, y_train,y_test = train_test_split(X,Y,test_size = 0.2,random_state=42)"
   ]
  },
  {
   "cell_type": "code",
   "execution_count": 189,
   "id": "5009e959-0bc7-4eac-a4d0-c3f22d342c4d",
   "metadata": {},
   "outputs": [
    {
     "data": {
      "text/plain": [
       "477    12.0\n",
       "15     19.9\n",
       "332    19.4\n",
       "423    13.4\n",
       "19     18.2\n",
       "       ... \n",
       "106    19.5\n",
       "270    21.1\n",
       "348    24.5\n",
       "435    13.4\n",
       "102    18.6\n",
       "Name: medv, Length: 404, dtype: float64"
      ]
     },
     "execution_count": 189,
     "metadata": {},
     "output_type": "execute_result"
    }
   ],
   "source": [
    "y_train"
   ]
  },
  {
   "cell_type": "code",
   "execution_count": 190,
   "id": "9d841276",
   "metadata": {},
   "outputs": [
    {
     "data": {
      "text/html": [
       "<div>\n",
       "<style scoped>\n",
       "    .dataframe tbody tr th:only-of-type {\n",
       "        vertical-align: middle;\n",
       "    }\n",
       "\n",
       "    .dataframe tbody tr th {\n",
       "        vertical-align: top;\n",
       "    }\n",
       "\n",
       "    .dataframe thead th {\n",
       "        text-align: right;\n",
       "    }\n",
       "</style>\n",
       "<table border=\"1\" class=\"dataframe\">\n",
       "  <thead>\n",
       "    <tr style=\"text-align: right;\">\n",
       "      <th></th>\n",
       "      <th>crim</th>\n",
       "      <th>indus</th>\n",
       "      <th>nox</th>\n",
       "      <th>rm</th>\n",
       "      <th>age</th>\n",
       "      <th>dis</th>\n",
       "      <th>rad</th>\n",
       "      <th>tax</th>\n",
       "      <th>ptratio</th>\n",
       "      <th>b</th>\n",
       "      <th>lstat</th>\n",
       "    </tr>\n",
       "  </thead>\n",
       "  <tbody>\n",
       "    <tr>\n",
       "      <th>477</th>\n",
       "      <td>15.02340</td>\n",
       "      <td>18.10</td>\n",
       "      <td>0.6140</td>\n",
       "      <td>5.304</td>\n",
       "      <td>97.3</td>\n",
       "      <td>2.1007</td>\n",
       "      <td>24</td>\n",
       "      <td>666</td>\n",
       "      <td>20.2</td>\n",
       "      <td>349.48</td>\n",
       "      <td>24.91</td>\n",
       "    </tr>\n",
       "    <tr>\n",
       "      <th>15</th>\n",
       "      <td>0.62739</td>\n",
       "      <td>8.14</td>\n",
       "      <td>0.5380</td>\n",
       "      <td>5.834</td>\n",
       "      <td>56.5</td>\n",
       "      <td>4.4986</td>\n",
       "      <td>4</td>\n",
       "      <td>307</td>\n",
       "      <td>21.0</td>\n",
       "      <td>395.62</td>\n",
       "      <td>8.47</td>\n",
       "    </tr>\n",
       "    <tr>\n",
       "      <th>332</th>\n",
       "      <td>0.03466</td>\n",
       "      <td>6.06</td>\n",
       "      <td>0.4379</td>\n",
       "      <td>6.031</td>\n",
       "      <td>23.3</td>\n",
       "      <td>6.6407</td>\n",
       "      <td>1</td>\n",
       "      <td>304</td>\n",
       "      <td>16.9</td>\n",
       "      <td>362.25</td>\n",
       "      <td>7.83</td>\n",
       "    </tr>\n",
       "    <tr>\n",
       "      <th>423</th>\n",
       "      <td>7.05042</td>\n",
       "      <td>18.10</td>\n",
       "      <td>0.6140</td>\n",
       "      <td>6.103</td>\n",
       "      <td>85.1</td>\n",
       "      <td>2.0218</td>\n",
       "      <td>24</td>\n",
       "      <td>666</td>\n",
       "      <td>20.2</td>\n",
       "      <td>2.52</td>\n",
       "      <td>23.29</td>\n",
       "    </tr>\n",
       "    <tr>\n",
       "      <th>19</th>\n",
       "      <td>0.72580</td>\n",
       "      <td>8.14</td>\n",
       "      <td>0.5380</td>\n",
       "      <td>5.727</td>\n",
       "      <td>69.5</td>\n",
       "      <td>3.7965</td>\n",
       "      <td>4</td>\n",
       "      <td>307</td>\n",
       "      <td>21.0</td>\n",
       "      <td>390.95</td>\n",
       "      <td>11.28</td>\n",
       "    </tr>\n",
       "  </tbody>\n",
       "</table>\n",
       "</div>"
      ],
      "text/plain": [
       "         crim  indus     nox     rm   age     dis  rad  tax  ptratio       b  \\\n",
       "477  15.02340  18.10  0.6140  5.304  97.3  2.1007   24  666     20.2  349.48   \n",
       "15    0.62739   8.14  0.5380  5.834  56.5  4.4986    4  307     21.0  395.62   \n",
       "332   0.03466   6.06  0.4379  6.031  23.3  6.6407    1  304     16.9  362.25   \n",
       "423   7.05042  18.10  0.6140  6.103  85.1  2.0218   24  666     20.2    2.52   \n",
       "19    0.72580   8.14  0.5380  5.727  69.5  3.7965    4  307     21.0  390.95   \n",
       "\n",
       "     lstat  \n",
       "477  24.91  \n",
       "15    8.47  \n",
       "332   7.83  \n",
       "423  23.29  \n",
       "19   11.28  "
      ]
     },
     "execution_count": 190,
     "metadata": {},
     "output_type": "execute_result"
    }
   ],
   "source": [
    "X_train.head()"
   ]
  },
  {
   "cell_type": "code",
   "execution_count": 191,
   "id": "89bb1d82-cb88-4d15-a3ae-3b2daa459259",
   "metadata": {},
   "outputs": [],
   "source": [
    "from sklearn.preprocessing import StandardScaler\n",
    "scaler = StandardScaler()\n",
    "X_train_scaled = scaler.fit_transform(X_train)\n",
    "X_test_scaled = scaler.transform(X_test)"
   ]
  },
  {
   "cell_type": "code",
   "execution_count": 192,
   "id": "a21e8d22",
   "metadata": {},
   "outputs": [
    {
     "data": {
      "text/plain": [
       "array([[ 1.28770177,  1.03323679,  0.48925206, ...,  0.84534281,\n",
       "        -0.07433689,  1.75350503],\n",
       "       [-0.33638447, -0.41315956, -0.15723342, ...,  1.20474139,\n",
       "         0.4301838 , -0.5614742 ],\n",
       "       [-0.40325332, -0.71521823, -1.00872286, ..., -0.63717631,\n",
       "         0.06529747, -0.65159505],\n",
       "       ...,\n",
       "       [-0.40547014, -1.30336132, -1.03339138, ..., -0.59225149,\n",
       "         0.37901005, -0.91069248],\n",
       "       [ 0.85189733,  1.03323679,  1.56105695, ...,  0.84534281,\n",
       "        -2.69458597,  1.52257036],\n",
       "       [-0.38135592, -0.35216694, -0.31034841, ...,  1.15981657,\n",
       "        -3.12158061, -0.25731635]])"
      ]
     },
     "execution_count": 192,
     "metadata": {},
     "output_type": "execute_result"
    }
   ],
   "source": [
    "X_train_scaled"
   ]
  },
  {
   "cell_type": "code",
   "execution_count": 193,
   "id": "6f2eebc8-fb90-4dc1-ab3e-f68ab36e91aa",
   "metadata": {},
   "outputs": [],
   "source": [
    "import tensorflow\n",
    "from tensorflow import keras\n",
    "from tensorflow.keras import Sequential\n",
    "from tensorflow.keras.layers import Dense"
   ]
  },
  {
   "cell_type": "code",
   "execution_count": 194,
   "id": "4fa258ad-0005-4d68-9f1d-2e5863ae49c7",
   "metadata": {},
   "outputs": [],
   "source": [
    "model = Sequential()"
   ]
  },
  {
   "cell_type": "code",
   "execution_count": 195,
   "id": "70310023",
   "metadata": {},
   "outputs": [],
   "source": [
    "model.add(Dense(128,activation='relu'))\n",
    "model.add(Dense(64,activation='relu'))\n",
    "model.add(Dense(32,activation='relu'))\n",
    "model.add(Dense(16,activation='relu'))\n",
    "# model.add(Dense(64,activation='relu'))\n",
    "model.add(Dense(1))"
   ]
  },
  {
   "cell_type": "code",
   "execution_count": 196,
   "id": "1263eac9",
   "metadata": {},
   "outputs": [],
   "source": [
    "model.compile(optimizer=\"adam\", loss=\"mean_squared_error\")"
   ]
  },
  {
   "cell_type": "code",
   "execution_count": 199,
   "id": "a7b64b35",
   "metadata": {},
   "outputs": [
    {
     "name": "stdout",
     "output_type": "stream",
     "text": [
      "Epoch 1/100\n",
      "41/41 [==============================] - 0s 3ms/step - loss: 204.2413 - val_loss: 33.7366\n",
      "Epoch 2/100\n",
      "41/41 [==============================] - 0s 2ms/step - loss: 23.1347 - val_loss: 23.1356\n",
      "Epoch 3/100\n",
      "41/41 [==============================] - 0s 2ms/step - loss: 17.3138 - val_loss: 21.9057\n",
      "Epoch 4/100\n",
      "41/41 [==============================] - 0s 2ms/step - loss: 15.5399 - val_loss: 18.0335\n",
      "Epoch 5/100\n",
      "41/41 [==============================] - 0s 2ms/step - loss: 14.0924 - val_loss: 18.9469\n",
      "Epoch 6/100\n",
      "41/41 [==============================] - 0s 2ms/step - loss: 13.6890 - val_loss: 18.2907\n",
      "Epoch 7/100\n",
      "41/41 [==============================] - 0s 3ms/step - loss: 13.0334 - val_loss: 15.5405\n",
      "Epoch 8/100\n",
      "41/41 [==============================] - 0s 3ms/step - loss: 12.0624 - val_loss: 17.9137\n",
      "Epoch 9/100\n",
      "41/41 [==============================] - 0s 4ms/step - loss: 11.4354 - val_loss: 15.8091\n",
      "Epoch 10/100\n",
      "41/41 [==============================] - 0s 2ms/step - loss: 10.6037 - val_loss: 14.6046\n",
      "Epoch 11/100\n",
      "41/41 [==============================] - 0s 3ms/step - loss: 10.9670 - val_loss: 17.2134\n",
      "Epoch 12/100\n",
      "41/41 [==============================] - 0s 3ms/step - loss: 10.7192 - val_loss: 13.3996\n",
      "Epoch 13/100\n",
      "41/41 [==============================] - 0s 3ms/step - loss: 9.9176 - val_loss: 14.9659\n",
      "Epoch 14/100\n",
      "41/41 [==============================] - 0s 3ms/step - loss: 9.9676 - val_loss: 14.4474\n",
      "Epoch 15/100\n",
      "41/41 [==============================] - 0s 2ms/step - loss: 9.5200 - val_loss: 12.9873\n",
      "Epoch 16/100\n",
      "41/41 [==============================] - 0s 3ms/step - loss: 9.2151 - val_loss: 12.8008\n",
      "Epoch 17/100\n",
      "41/41 [==============================] - 0s 3ms/step - loss: 9.3655 - val_loss: 11.9435\n",
      "Epoch 18/100\n",
      "41/41 [==============================] - 0s 3ms/step - loss: 8.9268 - val_loss: 14.2458\n",
      "Epoch 19/100\n",
      "41/41 [==============================] - 0s 3ms/step - loss: 8.8804 - val_loss: 13.1938\n",
      "Epoch 20/100\n",
      "41/41 [==============================] - 0s 2ms/step - loss: 9.0251 - val_loss: 14.1522\n",
      "Epoch 21/100\n",
      "41/41 [==============================] - 0s 3ms/step - loss: 8.4460 - val_loss: 12.0350\n",
      "Epoch 22/100\n",
      "41/41 [==============================] - 0s 3ms/step - loss: 8.2408 - val_loss: 12.7380\n",
      "Epoch 23/100\n",
      "41/41 [==============================] - 0s 3ms/step - loss: 7.7018 - val_loss: 15.4737\n",
      "Epoch 24/100\n",
      "41/41 [==============================] - 0s 3ms/step - loss: 8.0138 - val_loss: 11.0885\n",
      "Epoch 25/100\n",
      "41/41 [==============================] - 0s 2ms/step - loss: 8.0255 - val_loss: 11.5190\n",
      "Epoch 26/100\n",
      "41/41 [==============================] - 0s 4ms/step - loss: 7.5638 - val_loss: 11.7897\n",
      "Epoch 27/100\n",
      "41/41 [==============================] - 0s 2ms/step - loss: 7.1818 - val_loss: 10.7956\n",
      "Epoch 28/100\n",
      "41/41 [==============================] - 0s 2ms/step - loss: 7.0110 - val_loss: 11.2056\n",
      "Epoch 29/100\n",
      "41/41 [==============================] - 0s 2ms/step - loss: 6.9130 - val_loss: 11.1833\n",
      "Epoch 30/100\n",
      "41/41 [==============================] - 0s 2ms/step - loss: 6.7689 - val_loss: 11.5681\n",
      "Epoch 31/100\n",
      "41/41 [==============================] - 0s 2ms/step - loss: 6.6689 - val_loss: 10.3997\n",
      "Epoch 32/100\n",
      "41/41 [==============================] - 0s 2ms/step - loss: 7.2068 - val_loss: 11.5761\n",
      "Epoch 33/100\n",
      "41/41 [==============================] - 0s 2ms/step - loss: 6.4220 - val_loss: 11.4998\n",
      "Epoch 34/100\n",
      "41/41 [==============================] - 0s 2ms/step - loss: 6.7855 - val_loss: 10.2368\n",
      "Epoch 35/100\n",
      "41/41 [==============================] - 0s 2ms/step - loss: 6.3269 - val_loss: 10.8260\n",
      "Epoch 36/100\n",
      "41/41 [==============================] - 0s 1ms/step - loss: 6.0920 - val_loss: 11.5239\n",
      "Epoch 37/100\n",
      "41/41 [==============================] - 0s 2ms/step - loss: 5.9250 - val_loss: 10.1895\n",
      "Epoch 38/100\n",
      "41/41 [==============================] - 0s 2ms/step - loss: 5.9940 - val_loss: 10.2456\n",
      "Epoch 39/100\n",
      "41/41 [==============================] - 0s 2ms/step - loss: 6.0310 - val_loss: 10.2625\n",
      "Epoch 40/100\n",
      "41/41 [==============================] - 0s 2ms/step - loss: 5.6274 - val_loss: 10.7994\n",
      "Epoch 41/100\n",
      "41/41 [==============================] - 0s 2ms/step - loss: 5.3752 - val_loss: 9.7618\n",
      "Epoch 42/100\n",
      "41/41 [==============================] - 0s 2ms/step - loss: 5.4087 - val_loss: 9.4433\n",
      "Epoch 43/100\n",
      "41/41 [==============================] - 0s 1ms/step - loss: 5.6608 - val_loss: 10.4206\n",
      "Epoch 44/100\n",
      "41/41 [==============================] - 0s 2ms/step - loss: 5.6271 - val_loss: 11.1887\n",
      "Epoch 45/100\n",
      "41/41 [==============================] - 0s 2ms/step - loss: 5.5063 - val_loss: 11.6262\n",
      "Epoch 46/100\n",
      "41/41 [==============================] - 0s 2ms/step - loss: 5.2704 - val_loss: 10.0749\n",
      "Epoch 47/100\n",
      "41/41 [==============================] - 0s 2ms/step - loss: 5.0705 - val_loss: 10.1710\n",
      "Epoch 48/100\n",
      "41/41 [==============================] - 0s 2ms/step - loss: 4.8803 - val_loss: 10.6579\n",
      "Epoch 49/100\n",
      "41/41 [==============================] - 0s 2ms/step - loss: 4.7775 - val_loss: 10.0964\n",
      "Epoch 50/100\n",
      "41/41 [==============================] - 0s 1ms/step - loss: 4.8703 - val_loss: 11.1462\n",
      "Epoch 51/100\n",
      "41/41 [==============================] - 0s 2ms/step - loss: 4.5900 - val_loss: 11.0466\n",
      "Epoch 52/100\n",
      "41/41 [==============================] - 0s 2ms/step - loss: 4.6416 - val_loss: 9.4360\n",
      "Epoch 53/100\n",
      "41/41 [==============================] - 0s 2ms/step - loss: 4.3930 - val_loss: 10.2021\n",
      "Epoch 54/100\n",
      "41/41 [==============================] - 0s 2ms/step - loss: 4.3433 - val_loss: 10.1480\n",
      "Epoch 55/100\n",
      "41/41 [==============================] - 0s 1ms/step - loss: 4.3993 - val_loss: 11.9140\n",
      "Epoch 56/100\n",
      "41/41 [==============================] - 0s 1ms/step - loss: 4.3116 - val_loss: 9.7646\n",
      "Epoch 57/100\n",
      "41/41 [==============================] - 0s 2ms/step - loss: 4.4343 - val_loss: 10.0306\n",
      "Epoch 58/100\n",
      "41/41 [==============================] - 0s 2ms/step - loss: 3.9910 - val_loss: 10.4409\n",
      "Epoch 59/100\n",
      "41/41 [==============================] - 0s 2ms/step - loss: 4.1369 - val_loss: 10.0213\n",
      "Epoch 60/100\n",
      "41/41 [==============================] - 0s 2ms/step - loss: 4.2197 - val_loss: 10.0163\n",
      "Epoch 61/100\n",
      "41/41 [==============================] - 0s 2ms/step - loss: 3.9118 - val_loss: 10.1775\n",
      "Epoch 62/100\n",
      "41/41 [==============================] - 0s 2ms/step - loss: 4.0013 - val_loss: 8.6303\n",
      "Epoch 63/100\n",
      "41/41 [==============================] - 0s 2ms/step - loss: 4.0854 - val_loss: 9.7323\n",
      "Epoch 64/100\n",
      "41/41 [==============================] - 0s 2ms/step - loss: 3.8610 - val_loss: 10.1171\n",
      "Epoch 65/100\n",
      "41/41 [==============================] - 0s 2ms/step - loss: 4.0496 - val_loss: 11.5476\n",
      "Epoch 66/100\n",
      "41/41 [==============================] - 0s 2ms/step - loss: 3.9285 - val_loss: 10.8836\n",
      "Epoch 67/100\n",
      "41/41 [==============================] - 0s 2ms/step - loss: 3.7065 - val_loss: 10.3187\n",
      "Epoch 68/100\n",
      "41/41 [==============================] - 0s 2ms/step - loss: 4.2549 - val_loss: 8.4702\n",
      "Epoch 69/100\n",
      "41/41 [==============================] - 0s 2ms/step - loss: 3.5941 - val_loss: 9.6023\n",
      "Epoch 70/100\n",
      "41/41 [==============================] - 0s 2ms/step - loss: 3.4359 - val_loss: 9.8424\n",
      "Epoch 71/100\n",
      "41/41 [==============================] - 0s 2ms/step - loss: 3.3983 - val_loss: 10.0118\n",
      "Epoch 72/100\n",
      "41/41 [==============================] - 0s 2ms/step - loss: 3.3486 - val_loss: 9.0766\n",
      "Epoch 73/100\n",
      "41/41 [==============================] - 0s 2ms/step - loss: 3.7069 - val_loss: 9.6841\n",
      "Epoch 74/100\n",
      "41/41 [==============================] - 0s 2ms/step - loss: 3.2773 - val_loss: 8.4880\n",
      "Epoch 75/100\n",
      "41/41 [==============================] - 0s 2ms/step - loss: 3.4732 - val_loss: 8.5206\n",
      "Epoch 76/100\n",
      "41/41 [==============================] - 0s 2ms/step - loss: 2.9826 - val_loss: 9.9392\n",
      "Epoch 77/100\n",
      "41/41 [==============================] - 0s 1ms/step - loss: 3.0386 - val_loss: 9.1239\n",
      "Epoch 78/100\n",
      "41/41 [==============================] - 0s 2ms/step - loss: 3.7874 - val_loss: 11.9254\n",
      "Epoch 79/100\n",
      "41/41 [==============================] - 0s 2ms/step - loss: 3.1247 - val_loss: 9.1173\n",
      "Epoch 80/100\n",
      "41/41 [==============================] - 0s 2ms/step - loss: 2.9180 - val_loss: 8.6679\n",
      "Epoch 81/100\n",
      "41/41 [==============================] - 0s 1ms/step - loss: 3.3370 - val_loss: 10.0001\n",
      "Epoch 82/100\n"
     ]
    },
    {
     "name": "stdout",
     "output_type": "stream",
     "text": [
      "41/41 [==============================] - 0s 2ms/step - loss: 3.1033 - val_loss: 8.3592\n",
      "Epoch 83/100\n",
      "41/41 [==============================] - 0s 2ms/step - loss: 2.9068 - val_loss: 7.7208\n",
      "Epoch 84/100\n",
      "41/41 [==============================] - 0s 2ms/step - loss: 2.8546 - val_loss: 7.7803\n",
      "Epoch 85/100\n",
      "41/41 [==============================] - 0s 2ms/step - loss: 3.4296 - val_loss: 9.0959\n",
      "Epoch 86/100\n",
      "41/41 [==============================] - 0s 2ms/step - loss: 2.7846 - val_loss: 8.8503\n",
      "Epoch 87/100\n",
      "41/41 [==============================] - 0s 2ms/step - loss: 2.6721 - val_loss: 8.1046\n",
      "Epoch 88/100\n",
      "41/41 [==============================] - 0s 2ms/step - loss: 2.8031 - val_loss: 8.5619\n",
      "Epoch 89/100\n",
      "41/41 [==============================] - 0s 2ms/step - loss: 2.8056 - val_loss: 7.9301\n",
      "Epoch 90/100\n",
      "41/41 [==============================] - 0s 2ms/step - loss: 2.9580 - val_loss: 8.7377\n",
      "Epoch 91/100\n",
      "41/41 [==============================] - 0s 2ms/step - loss: 2.5068 - val_loss: 8.2472\n",
      "Epoch 92/100\n",
      "41/41 [==============================] - 0s 2ms/step - loss: 2.3940 - val_loss: 8.1795\n",
      "Epoch 93/100\n",
      "41/41 [==============================] - 0s 2ms/step - loss: 2.3970 - val_loss: 8.7157\n",
      "Epoch 94/100\n",
      "41/41 [==============================] - 0s 2ms/step - loss: 3.3461 - val_loss: 9.3746\n",
      "Epoch 95/100\n",
      "41/41 [==============================] - 0s 2ms/step - loss: 2.5272 - val_loss: 8.8785\n",
      "Epoch 96/100\n",
      "41/41 [==============================] - 0s 2ms/step - loss: 2.1986 - val_loss: 8.0162\n",
      "Epoch 97/100\n",
      "41/41 [==============================] - 0s 1ms/step - loss: 2.5287 - val_loss: 8.1711\n",
      "Epoch 98/100\n",
      "41/41 [==============================] - 0s 2ms/step - loss: 2.2790 - val_loss: 9.0023\n",
      "Epoch 99/100\n",
      "41/41 [==============================] - 0s 2ms/step - loss: 2.2944 - val_loss: 8.5287\n",
      "Epoch 100/100\n",
      "41/41 [==============================] - 0s 2ms/step - loss: 2.1591 - val_loss: 9.2752\n"
     ]
    },
    {
     "data": {
      "text/plain": [
       "<keras.callbacks.History at 0x1da22ee7e20>"
      ]
     },
     "execution_count": 199,
     "metadata": {},
     "output_type": "execute_result"
    }
   ],
   "source": [
    "model.fit(X_train_scaled,y_train,epochs=100,batch_size = 8,validation_split=0.2)"
   ]
  },
  {
   "cell_type": "code",
   "execution_count": 200,
   "id": "f5107a9f",
   "metadata": {},
   "outputs": [
    {
     "name": "stdout",
     "output_type": "stream",
     "text": [
      "4/4 [==============================] - 0s 2ms/step - loss: 10.0503\n"
     ]
    },
    {
     "data": {
      "text/plain": [
       "10.050251960754395"
      ]
     },
     "execution_count": 200,
     "metadata": {},
     "output_type": "execute_result"
    }
   ],
   "source": [
    "model.evaluate(X_test_scaled,y_test)"
   ]
  },
  {
   "cell_type": "code",
   "execution_count": 203,
   "id": "3b678daa",
   "metadata": {},
   "outputs": [],
   "source": [
    "y_pred = model.predict(X_test_scaled[1].reshape(1,-1))"
   ]
  },
  {
   "cell_type": "code",
   "execution_count": 205,
   "id": "19a230ae",
   "metadata": {},
   "outputs": [
    {
     "name": "stdout",
     "output_type": "stream",
     "text": [
      "predicted:  [[31.070824]]\n",
      "actual:  32.4\n"
     ]
    }
   ],
   "source": [
    "print(\"predicted: \", y_pred)\n",
    "print(\"actual: \", y_test.iloc[1])"
   ]
  },
  {
   "cell_type": "code",
   "execution_count": 162,
   "id": "3d9f7c63",
   "metadata": {},
   "outputs": [
    {
     "data": {
      "text/plain": [
       "173    23.6\n",
       "274    32.4\n",
       "491    13.6\n",
       "72     22.8\n",
       "452    16.1\n",
       "       ... \n",
       "412    17.9\n",
       "436     9.6\n",
       "411    17.2\n",
       "86     22.5\n",
       "75     21.4\n",
       "Name: medv, Length: 102, dtype: float64"
      ]
     },
     "execution_count": 162,
     "metadata": {},
     "output_type": "execute_result"
    }
   ],
   "source": [
    "y_test"
   ]
  },
  {
   "cell_type": "code",
   "execution_count": null,
   "id": "533d0418",
   "metadata": {},
   "outputs": [],
   "source": []
  }
 ],
 "metadata": {
  "kernelspec": {
   "display_name": "Python 3 (ipykernel)",
   "language": "python",
   "name": "python3"
  },
  "language_info": {
   "codemirror_mode": {
    "name": "ipython",
    "version": 3
   },
   "file_extension": ".py",
   "mimetype": "text/x-python",
   "name": "python",
   "nbconvert_exporter": "python",
   "pygments_lexer": "ipython3",
   "version": "3.9.12"
  }
 },
 "nbformat": 4,
 "nbformat_minor": 5
}
