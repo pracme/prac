{
 "cells": [
  {
   "cell_type": "code",
   "execution_count": 2,
   "id": "db2d94e0",
   "metadata": {},
   "outputs": [],
   "source": [
    "import pandas as pd\n",
    "import numpy as np\n",
    "\n",
    "import matplotlib.pyplot as plt"
   ]
  },
  {
   "cell_type": "code",
   "execution_count": 3,
   "id": "e2f76d26",
   "metadata": {},
   "outputs": [],
   "source": [
    "data = pd.read_csv(\"letter-recognition.csv\")"
   ]
  },
  {
   "cell_type": "code",
   "execution_count": 4,
   "id": "c2d5b059",
   "metadata": {},
   "outputs": [
    {
     "data": {
      "text/html": [
       "<div>\n",
       "<style scoped>\n",
       "    .dataframe tbody tr th:only-of-type {\n",
       "        vertical-align: middle;\n",
       "    }\n",
       "\n",
       "    .dataframe tbody tr th {\n",
       "        vertical-align: top;\n",
       "    }\n",
       "\n",
       "    .dataframe thead th {\n",
       "        text-align: right;\n",
       "    }\n",
       "</style>\n",
       "<table border=\"1\" class=\"dataframe\">\n",
       "  <thead>\n",
       "    <tr style=\"text-align: right;\">\n",
       "      <th></th>\n",
       "      <th>letter</th>\n",
       "      <th>xbox</th>\n",
       "      <th>ybox</th>\n",
       "      <th>width</th>\n",
       "      <th>height</th>\n",
       "      <th>onpix</th>\n",
       "      <th>xbar</th>\n",
       "      <th>ybar</th>\n",
       "      <th>x2bar</th>\n",
       "      <th>y2bar</th>\n",
       "      <th>xybar</th>\n",
       "      <th>x2ybar</th>\n",
       "      <th>xy2bar</th>\n",
       "      <th>xedge</th>\n",
       "      <th>xedgey</th>\n",
       "      <th>yedge</th>\n",
       "      <th>yedgex</th>\n",
       "    </tr>\n",
       "  </thead>\n",
       "  <tbody>\n",
       "    <tr>\n",
       "      <th>0</th>\n",
       "      <td>T</td>\n",
       "      <td>2</td>\n",
       "      <td>8</td>\n",
       "      <td>3</td>\n",
       "      <td>5</td>\n",
       "      <td>1</td>\n",
       "      <td>8</td>\n",
       "      <td>13</td>\n",
       "      <td>0</td>\n",
       "      <td>6</td>\n",
       "      <td>6</td>\n",
       "      <td>10</td>\n",
       "      <td>8</td>\n",
       "      <td>0</td>\n",
       "      <td>8</td>\n",
       "      <td>0</td>\n",
       "      <td>8</td>\n",
       "    </tr>\n",
       "    <tr>\n",
       "      <th>1</th>\n",
       "      <td>I</td>\n",
       "      <td>5</td>\n",
       "      <td>12</td>\n",
       "      <td>3</td>\n",
       "      <td>7</td>\n",
       "      <td>2</td>\n",
       "      <td>10</td>\n",
       "      <td>5</td>\n",
       "      <td>5</td>\n",
       "      <td>4</td>\n",
       "      <td>13</td>\n",
       "      <td>3</td>\n",
       "      <td>9</td>\n",
       "      <td>2</td>\n",
       "      <td>8</td>\n",
       "      <td>4</td>\n",
       "      <td>10</td>\n",
       "    </tr>\n",
       "    <tr>\n",
       "      <th>2</th>\n",
       "      <td>D</td>\n",
       "      <td>4</td>\n",
       "      <td>11</td>\n",
       "      <td>6</td>\n",
       "      <td>8</td>\n",
       "      <td>6</td>\n",
       "      <td>10</td>\n",
       "      <td>6</td>\n",
       "      <td>2</td>\n",
       "      <td>6</td>\n",
       "      <td>10</td>\n",
       "      <td>3</td>\n",
       "      <td>7</td>\n",
       "      <td>3</td>\n",
       "      <td>7</td>\n",
       "      <td>3</td>\n",
       "      <td>9</td>\n",
       "    </tr>\n",
       "    <tr>\n",
       "      <th>3</th>\n",
       "      <td>N</td>\n",
       "      <td>7</td>\n",
       "      <td>11</td>\n",
       "      <td>6</td>\n",
       "      <td>6</td>\n",
       "      <td>3</td>\n",
       "      <td>5</td>\n",
       "      <td>9</td>\n",
       "      <td>4</td>\n",
       "      <td>6</td>\n",
       "      <td>4</td>\n",
       "      <td>4</td>\n",
       "      <td>10</td>\n",
       "      <td>6</td>\n",
       "      <td>10</td>\n",
       "      <td>2</td>\n",
       "      <td>8</td>\n",
       "    </tr>\n",
       "    <tr>\n",
       "      <th>4</th>\n",
       "      <td>G</td>\n",
       "      <td>2</td>\n",
       "      <td>1</td>\n",
       "      <td>3</td>\n",
       "      <td>1</td>\n",
       "      <td>1</td>\n",
       "      <td>8</td>\n",
       "      <td>6</td>\n",
       "      <td>6</td>\n",
       "      <td>6</td>\n",
       "      <td>6</td>\n",
       "      <td>5</td>\n",
       "      <td>9</td>\n",
       "      <td>1</td>\n",
       "      <td>7</td>\n",
       "      <td>5</td>\n",
       "      <td>10</td>\n",
       "    </tr>\n",
       "  </tbody>\n",
       "</table>\n",
       "</div>"
      ],
      "text/plain": [
       "  letter  xbox   ybox   width   height  onpix   xbar   ybar   x2bar  y2bar   \\\n",
       "0      T      2      8       3       5       1      8     13      0       6   \n",
       "1      I      5     12       3       7       2     10      5      5       4   \n",
       "2      D      4     11       6       8       6     10      6      2       6   \n",
       "3      N      7     11       6       6       3      5      9      4       6   \n",
       "4      G      2      1       3       1       1      8      6      6       6   \n",
       "\n",
       "   xybar   x2ybar  xy2bar  xedge   xedgey  yedge   yedgex  \n",
       "0       6      10       8       0       8       0       8  \n",
       "1      13       3       9       2       8       4      10  \n",
       "2      10       3       7       3       7       3       9  \n",
       "3       4       4      10       6      10       2       8  \n",
       "4       6       5       9       1       7       5      10  "
      ]
     },
     "execution_count": 4,
     "metadata": {},
     "output_type": "execute_result"
    }
   ],
   "source": [
    "data.head(5)"
   ]
  },
  {
   "cell_type": "code",
   "execution_count": 5,
   "id": "66084a66",
   "metadata": {},
   "outputs": [],
   "source": [
    "X = data.iloc[:,1:]\n",
    "Y = data.iloc[:,0]"
   ]
  },
  {
   "cell_type": "code",
   "execution_count": 15,
   "id": "a2d65593",
   "metadata": {},
   "outputs": [
    {
     "data": {
      "text/plain": [
       "(20000, 17)"
      ]
     },
     "execution_count": 15,
     "metadata": {},
     "output_type": "execute_result"
    }
   ],
   "source": [
    "from sklearn.preprocessing import LabelEncoder\n",
    "lr = LabelEncoder()\n",
    "data.shape"
   ]
  },
  {
   "cell_type": "code",
   "execution_count": 7,
   "id": "1a1cd93b",
   "metadata": {},
   "outputs": [
    {
     "data": {
      "text/plain": [
       "array([19,  8,  3, ..., 19, 18,  0])"
      ]
     },
     "execution_count": 7,
     "metadata": {},
     "output_type": "execute_result"
    }
   ],
   "source": [
    "y = lr.fit_transform(Y)\n",
    "y"
   ]
  },
  {
   "cell_type": "code",
   "execution_count": 8,
   "id": "b1bcc67d",
   "metadata": {},
   "outputs": [],
   "source": [
    "from sklearn.preprocessing import StandardScaler\n",
    "from sklearn.model_selection import train_test_split"
   ]
  },
  {
   "cell_type": "code",
   "execution_count": 9,
   "id": "4bbe991c",
   "metadata": {},
   "outputs": [],
   "source": [
    "scaler = StandardScaler()\n",
    "X_train,X_test,y_train,y_test = train_test_split(X,y,test_size = 0.2, random_state = 42)"
   ]
  },
  {
   "cell_type": "code",
   "execution_count": 10,
   "id": "d2b53ce6",
   "metadata": {},
   "outputs": [],
   "source": [
    "X_train_scaled = scaler.fit_transform(X_train)\n",
    "X_test_scaled = scaler.transform(X_test)"
   ]
  },
  {
   "cell_type": "code",
   "execution_count": 11,
   "id": "a6ab39fb",
   "metadata": {},
   "outputs": [],
   "source": [
    "import tensorflow\n",
    "from tensorflow import keras\n",
    "from tensorflow.keras import Sequential\n",
    "from tensorflow.keras.layers import Dense,Dropout"
   ]
  },
  {
   "cell_type": "code",
   "execution_count": 12,
   "id": "7cc6c46c",
   "metadata": {},
   "outputs": [],
   "source": [
    "model = Sequential()"
   ]
  },
  {
   "cell_type": "code",
   "execution_count": 16,
   "id": "a170b2f0",
   "metadata": {},
   "outputs": [],
   "source": [
    "model.add(Dense(128,activation='relu', input_shape = (17,)))\n",
    "model.add(Dropout(0.2))\n",
    "model.add(Dense(64,activation='relu'))\n",
    "model.add(Dropout(0.2))\n",
    "model.add(Dense(26,activation='softmax'))"
   ]
  },
  {
   "cell_type": "markdown",
   "id": "b1401363",
   "metadata": {},
   "source": [
    "model.summary()"
   ]
  },
  {
   "cell_type": "code",
   "execution_count": null,
   "id": "abc6577c",
   "metadata": {},
   "outputs": [],
   "source": []
  },
  {
   "cell_type": "code",
   "execution_count": 18,
   "id": "08c359cb",
   "metadata": {},
   "outputs": [],
   "source": [
    "model.compile(optimizer=\"adam\",loss=\"sparse_categorical_crossentropy\",metrics=\"accuracy\")"
   ]
  },
  {
   "cell_type": "code",
   "execution_count": 19,
   "id": "1ab1bdb2",
   "metadata": {},
   "outputs": [
    {
     "name": "stdout",
     "output_type": "stream",
     "text": [
      "Epoch 1/20\n",
      "225/225 [==============================] - 1s 4ms/step - loss: 2.7832 - accuracy: 0.1453 - val_loss: 2.1280 - val_accuracy: 0.2519\n",
      "Epoch 2/20\n",
      "225/225 [==============================] - 1s 2ms/step - loss: 1.9644 - accuracy: 0.3185 - val_loss: 1.5458 - val_accuracy: 0.4881\n",
      "Epoch 3/20\n",
      "225/225 [==============================] - 1s 2ms/step - loss: 1.5737 - accuracy: 0.4620 - val_loss: 1.1825 - val_accuracy: 0.6525\n",
      "Epoch 4/20\n",
      "225/225 [==============================] - 1s 2ms/step - loss: 1.3216 - accuracy: 0.5606 - val_loss: 0.9845 - val_accuracy: 0.7100\n",
      "Epoch 5/20\n",
      "225/225 [==============================] - 1s 2ms/step - loss: 1.1497 - accuracy: 0.6265 - val_loss: 0.8416 - val_accuracy: 0.7506\n",
      "Epoch 6/20\n",
      "225/225 [==============================] - 1s 2ms/step - loss: 1.0323 - accuracy: 0.6706 - val_loss: 0.7241 - val_accuracy: 0.7831\n",
      "Epoch 7/20\n",
      "225/225 [==============================] - 1s 2ms/step - loss: 0.9296 - accuracy: 0.7068 - val_loss: 0.6486 - val_accuracy: 0.8087\n",
      "Epoch 8/20\n",
      "225/225 [==============================] - 1s 2ms/step - loss: 0.8651 - accuracy: 0.7274 - val_loss: 0.5910 - val_accuracy: 0.8306\n",
      "Epoch 9/20\n",
      "225/225 [==============================] - 1s 2ms/step - loss: 0.8103 - accuracy: 0.7472 - val_loss: 0.5416 - val_accuracy: 0.8381\n",
      "Epoch 10/20\n",
      "225/225 [==============================] - 1s 2ms/step - loss: 0.7556 - accuracy: 0.7679 - val_loss: 0.5126 - val_accuracy: 0.8531\n",
      "Epoch 11/20\n",
      "225/225 [==============================] - 1s 2ms/step - loss: 0.7263 - accuracy: 0.7770 - val_loss: 0.4890 - val_accuracy: 0.8594\n",
      "Epoch 12/20\n",
      "225/225 [==============================] - 1s 2ms/step - loss: 0.6915 - accuracy: 0.7899 - val_loss: 0.4574 - val_accuracy: 0.8700\n",
      "Epoch 13/20\n",
      "225/225 [==============================] - 1s 3ms/step - loss: 0.6608 - accuracy: 0.7995 - val_loss: 0.4546 - val_accuracy: 0.8631\n",
      "Epoch 14/20\n",
      "225/225 [==============================] - 1s 2ms/step - loss: 0.6336 - accuracy: 0.8071 - val_loss: 0.4221 - val_accuracy: 0.8775\n",
      "Epoch 15/20\n",
      "225/225 [==============================] - 1s 3ms/step - loss: 0.6166 - accuracy: 0.8096 - val_loss: 0.4012 - val_accuracy: 0.8838\n",
      "Epoch 16/20\n",
      "225/225 [==============================] - 1s 2ms/step - loss: 0.6025 - accuracy: 0.8165 - val_loss: 0.3870 - val_accuracy: 0.8819\n",
      "Epoch 17/20\n",
      "225/225 [==============================] - 1s 3ms/step - loss: 0.5798 - accuracy: 0.8252 - val_loss: 0.3682 - val_accuracy: 0.8894\n",
      "Epoch 18/20\n",
      "225/225 [==============================] - 1s 2ms/step - loss: 0.5575 - accuracy: 0.8269 - val_loss: 0.3575 - val_accuracy: 0.8931\n",
      "Epoch 19/20\n",
      "225/225 [==============================] - 1s 3ms/step - loss: 0.5442 - accuracy: 0.8326 - val_loss: 0.3452 - val_accuracy: 0.8906\n",
      "Epoch 20/20\n",
      "225/225 [==============================] - 1s 2ms/step - loss: 0.5391 - accuracy: 0.8359 - val_loss: 0.3434 - val_accuracy: 0.8975\n"
     ]
    }
   ],
   "source": [
    "history = model.fit(X_train_scaled,y_train,epochs = 20,batch_size=64,validation_split=0.1)"
   ]
  },
  {
   "cell_type": "code",
   "execution_count": 21,
   "id": "3fb3b31b",
   "metadata": {},
   "outputs": [],
   "source": [
    "y_prob = model.predict(X_test_scaled)\n",
    "y_pred = y_prob.argmax(axis=1)"
   ]
  },
  {
   "cell_type": "code",
   "execution_count": 29,
   "id": "946824cd",
   "metadata": {},
   "outputs": [
    {
     "data": {
      "text/plain": [
       "16"
      ]
     },
     "execution_count": 29,
     "metadata": {},
     "output_type": "execute_result"
    }
   ],
   "source": [
    "y_test[7]"
   ]
  },
  {
   "cell_type": "code",
   "execution_count": 30,
   "id": "7f4e0f45",
   "metadata": {},
   "outputs": [],
   "source": [
    "y_pred_one = model.predict(X_test_scaled[5].reshape(1,-1)).argmax(axis=1)"
   ]
  },
  {
   "cell_type": "code",
   "execution_count": 31,
   "id": "10a27a07",
   "metadata": {},
   "outputs": [
    {
     "name": "stdout",
     "output_type": "stream",
     "text": [
      "actual values:  4\n",
      "predicted value:  [4]\n"
     ]
    }
   ],
   "source": [
    "print(\"actual values: \", y_test[7])\n",
    "print(\"predicted value: \",y_pred_one)"
   ]
  },
  {
   "cell_type": "code",
   "execution_count": 32,
   "id": "d871d98a",
   "metadata": {},
   "outputs": [
    {
     "data": {
      "text/plain": [
       "array([19, 11,  0, ..., 16, 24, 24])"
      ]
     },
     "execution_count": 32,
     "metadata": {},
     "output_type": "execute_result"
    }
   ],
   "source": [
    "y_test"
   ]
  },
  {
   "cell_type": "code",
   "execution_count": null,
   "id": "b3aa09f9",
   "metadata": {},
   "outputs": [],
   "source": []
  }
 ],
 "metadata": {
  "kernelspec": {
   "display_name": "Python 3 (ipykernel)",
   "language": "python",
   "name": "python3"
  },
  "language_info": {
   "codemirror_mode": {
    "name": "ipython",
    "version": 3
   },
   "file_extension": ".py",
   "mimetype": "text/x-python",
   "name": "python",
   "nbconvert_exporter": "python",
   "pygments_lexer": "ipython3",
   "version": "3.9.12"
  }
 },
 "nbformat": 4,
 "nbformat_minor": 5
}
